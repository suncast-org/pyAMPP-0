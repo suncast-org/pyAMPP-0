{
 "cells": [
  {
   "cell_type": "code",
   "execution_count": 2,
   "id": "e1dce226-021e-4f31-88de-ae352a55d20a",
   "metadata": {},
   "outputs": [],
   "source": [
    "import os, json\n",
    "from pathlib import Path\n",
    "import datetime\n",
    "import astropy.units as u\n",
    "from astropy.time import Time\n",
    "import matplotlib.pyplot as plt\n",
    "import numpy as np\n",
    "\n",
    "os.environ['OMP_NUM_THREADS']='16'\n",
    "\n",
    "from pyampp0.query_sunpy     import download_closest_magnetograms\n",
    "from pyampp0.ampp_compute    import ampp_field\n",
    "from pyampp0.contrib.radio   import GXRadioImageComputing\n",
    "from pyampp0.contrib.visuals import Box"
   ]
  },
  {
   "cell_type": "code",
   "execution_count": 3,
   "id": "10f967a0-de21-4f50-b28e-8f867d586e4b",
   "metadata": {},
   "outputs": [],
   "source": [
    "conf_path = Path(\"./test_files.json\").resolve()\n",
    "if not conf_path.exists():\n",
    "    print(\"does not exist, using default parameters\")\n",
    "    data_path = (Path(\"./data\")).resolve()\n",
    "    ebtel_file = \"/path/to/your/gx_simulator/userslib/aia/ebtel/ebtel.sav\"\n",
    "    jsoc_email = \"test@example.com\"\n",
    "else:\n",
    "    config = json.load(open(str(conf_path), \"rb\"))\n",
    "    ebtel_file = config[\"ebtel_file\"]\n",
    "    jsoc_email = config[\"jsoc_email\"]"
   ]
  },
  {
   "cell_type": "code",
   "execution_count": 4,
   "id": "f060aabc-97c5-49ac-9f05-ca6eaa86a77f",
   "metadata": {},
   "outputs": [],
   "source": [
    "dt = datetime.datetime(2024, 5, 5, 5, 0)\n",
    "xc=285\n",
    "yc=475"
   ]
  },
  {
   "cell_type": "markdown",
   "id": "fb11906d-1d8d-483c-8c40-cb5c2a2d8736",
   "metadata": {},
   "source": [
    "Navigate to <http://jsoc.stanford.edu/ajax/register_email.html> to register your mail\n",
    "\n",
    "<https://docs.sunpy.org/en/stable/generated/api/sunpy.net.jsoc.JSOCClient.html>\n",
    "\n",
    "Download ebtel file for radio source modeling here: <https://github.com/Gelu-Nita/GX_SIMULATOR/tree/master/userslib/ebtel>"
   ]
  },
  {
   "cell_type": "code",
   "execution_count": 6,
   "id": "8db93280-af72-4570-835a-14b0c854e585",
   "metadata": {},
   "outputs": [
    {
     "name": "stdout",
     "output_type": "stream",
     "text": [
      "downloading for time 2024-05-05 05:00:00.000\n",
      "Export request pending. [id=JSOC_20240827_000237, status=2]\n",
      "Waiting for 0 seconds...\n",
      "4 URLs found for download. Full request totalling 61MB\n"
     ]
    },
    {
     "data": {
      "application/vnd.jupyter.widget-view+json": {
       "model_id": "deb72f6b4b71432b9c0b7c16237a2839",
       "version_major": 2,
       "version_minor": 0
      },
      "text/plain": [
       "Files Downloaded:   0%|          | 0/4 [00:00<?, ?file/s]"
      ]
     },
     "metadata": {},
     "output_type": "display_data"
    },
    {
     "data": {
      "application/vnd.jupyter.widget-view+json": {
       "model_id": "",
       "version_major": 2,
       "version_minor": 0
      },
      "text/plain": [
       "hmi.b_720s.20240505_050000_TAI.inclination.fits:   0%|          | 0.00/16.0M [00:00<?, ?B/s]"
      ]
     },
     "metadata": {},
     "output_type": "display_data"
    },
    {
     "data": {
      "application/vnd.jupyter.widget-view+json": {
       "model_id": "",
       "version_major": 2,
       "version_minor": 0
      },
      "text/plain": [
       "hmi.b_720s.20240505_050000_TAI.azimuth.fits:   0%|          | 0.00/21.9M [00:00<?, ?B/s]"
      ]
     },
     "metadata": {},
     "output_type": "display_data"
    },
    {
     "data": {
      "application/vnd.jupyter.widget-view+json": {
       "model_id": "",
       "version_major": 2,
       "version_minor": 0
      },
      "text/plain": [
       "hmi.b_720s.20240505_050000_TAI.disambig.fits:   0%|          | 0.00/5.47M [00:00<?, ?B/s]"
      ]
     },
     "metadata": {},
     "output_type": "display_data"
    },
    {
     "data": {
      "application/vnd.jupyter.widget-view+json": {
       "model_id": "",
       "version_major": 2,
       "version_minor": 0
      },
      "text/plain": [
       "hmi.b_720s.20240505_050000_TAI.field.fits:   0%|          | 0.00/21.0M [00:00<?, ?B/s]"
      ]
     },
     "metadata": {},
     "output_type": "display_data"
    },
    {
     "name": "stdout",
     "output_type": "stream",
     "text": [
      "Export request pending. [id=JSOC_20240827_000239, status=2]\n",
      "Waiting for 0 seconds...\n",
      "1 URLs found for download. Full request totalling 13MB\n"
     ]
    },
    {
     "data": {
      "application/vnd.jupyter.widget-view+json": {
       "model_id": "a0abd862861b4c5598e4c752a87a1564",
       "version_major": 2,
       "version_minor": 0
      },
      "text/plain": [
       "Files Downloaded:   0%|          | 0/1 [00:00<?, ?file/s]"
      ]
     },
     "metadata": {},
     "output_type": "display_data"
    },
    {
     "data": {
      "application/vnd.jupyter.widget-view+json": {
       "model_id": "",
       "version_major": 2,
       "version_minor": 0
      },
      "text/plain": [
       "hmi.m_720s.20240505_050000_TAI.3.magnetogram.fits:   0%|          | 0.00/14.0M [00:00<?, ?B/s]"
      ]
     },
     "metadata": {},
     "output_type": "display_data"
    },
    {
     "name": "stdout",
     "output_type": "stream",
     "text": [
      "Export request pending. [id=JSOC_20240827_000240, status=2]\n",
      "Waiting for 0 seconds...\n",
      "1 URLs found for download. Full request totalling 15MB\n"
     ]
    },
    {
     "data": {
      "application/vnd.jupyter.widget-view+json": {
       "model_id": "073a06ad71e84f6daede7237e49b0861",
       "version_major": 2,
       "version_minor": 0
      },
      "text/plain": [
       "Files Downloaded:   0%|          | 0/1 [00:00<?, ?file/s]"
      ]
     },
     "metadata": {},
     "output_type": "display_data"
    },
    {
     "data": {
      "application/vnd.jupyter.widget-view+json": {
       "model_id": "",
       "version_major": 2,
       "version_minor": 0
      },
      "text/plain": [
       "hmi.ic_nolimbdark_720s.20240505_050000_TAI.3.continuum.fits:   0%|          | 0.00/15.7M [00:00<?, ?B/s]"
      ]
     },
     "metadata": {},
     "output_type": "display_data"
    },
    {
     "data": {
      "text/plain": [
       "<parfive.results.Results object at 0x71ea55fab310>\n",
       "['inputs_2/hmi.b_720s.20240505_050000_TAI.inclination.fits', 'inputs_2/hmi.b_720s.20240505_050000_TAI.azimuth.fits', 'inputs_2/hmi.b_720s.20240505_050000_TAI.disambig.fits', 'inputs_2/hmi.b_720s.20240505_050000_TAI.field.fits', 'inputs_2/hmi.m_720s.20240505_050000_TAI.3.magnetogram.fits', 'inputs_2/hmi.ic_nolimbdark_720s.20240505_050000_TAI.3.continuum.fits']"
      ]
     },
     "execution_count": 6,
     "metadata": {},
     "output_type": "execute_result"
    }
   ],
   "source": [
    "#in_files = download_closest_magnetograms(dt, data_path, jsoc_email)\n",
    "in_files"
   ]
  },
  {
   "cell_type": "code",
   "execution_count": 4,
   "id": "209dedac-305d-48b4-a66c-aa0913860b7c",
   "metadata": {},
   "outputs": [
    {
     "name": "stderr",
     "output_type": "stream",
     "text": [
      "WARNING: SunpyMetadataWarning: Could not parse unit string \"Mx/cm^2\" as a valid FITS unit.\n",
      "See https://docs.sunpy.org/en/stable/code_ref/map.html#fixing-map-metadata for how to fix metadata before loading it with sunpy.map.Map.\n",
      "See https://fits.gsfc.nasa.gov/fits_standard.html for the FITS unit standards. [sunpy.map.mapbase]\n",
      "WARNING: SunpyMetadataWarning: Could not parse unit string \"degree\" as a valid FITS unit.\n",
      "See https://docs.sunpy.org/en/stable/code_ref/map.html#fixing-map-metadata for how to fix metadata before loading it with sunpy.map.Map.\n",
      "See https://fits.gsfc.nasa.gov/fits_standard.html for the FITS unit standards. [sunpy.map.mapbase]\n",
      "WARNING: SunpyMetadataWarning: Could not parse unit string \"Mx/cm^2\" as a valid FITS unit.\n",
      "See https://docs.sunpy.org/en/stable/code_ref/map.html#fixing-map-metadata for how to fix metadata before loading it with sunpy.map.Map.\n",
      "See https://fits.gsfc.nasa.gov/fits_standard.html for the FITS unit standards. [sunpy.map.mapbase]\n"
     ]
    },
    {
     "name": "stdout",
     "output_type": "stream",
     "text": [
      "opening file\n",
      "NLFFF energy:     1.6929159269766023e+32 erg\n",
      "Calculating field lines\n",
      "cutoff_qs:  0.991392949634659 1003\n",
      "cutoff_b:  1.0160090636373977\n",
      "cutoff_f:  1.0359026067367256\n",
      "umbra: nelem=  1066  abs(B) range:  4.134217929830154 1761.6771372266035\n",
      "penumbra: nelem=  2041  abs(B) range:  0.16699691493248664 1100.8657483968557\n",
      "eNW: nelem=  153  abs(B) range:  0.5800714707914201 463.9385530280463\n",
      "NW: nelem=  1118  abs(B) range:  0.03954448135178388 426.09131414242046\n",
      "IN: nelem=  3814  abs(B) range:  0.016618412613616455 699.170757691664\n",
      "plage: nelem=  2547  abs(B) range:  30.000891663325778 600.159185554152\n",
      "facula: nelem=  1647  abs(B) range:  30.000891663325778 495.6912713128649\n",
      "Total elements:  12386\n",
      "Number of elements in cont:  8192\n"
     ]
    }
   ],
   "source": [
    "ampp_field(data_directory, \"./model.h5\", xc, yc, 128, 64, 64, res=700*u.km)"
   ]
  },
  {
   "cell_type": "code",
   "execution_count": 5,
   "id": "50165d1b-faa7-46f4-afcd-d2037c66bca9",
   "metadata": {},
   "outputs": [
    {
     "name": "stdout",
     "output_type": "stream",
     "text": [
      "[ 64 128  64]\n",
      "{'x': <Quantity [ 0.        ,  0.71111111,  1.42222222,  2.13333333,  2.84444444,\n",
      "            3.55555556,  4.26666667,  4.97777778,  5.68888889,  6.4       ,\n",
      "            7.11111111,  7.82222222,  8.53333333,  9.24444444,  9.95555556,\n",
      "           10.66666667, 11.37777778, 12.08888889, 12.8       , 13.51111111,\n",
      "           14.22222222, 14.93333333, 15.64444444, 16.35555556, 17.06666667,\n",
      "           17.77777778, 18.48888889, 19.2       , 19.91111111, 20.62222222,\n",
      "           21.33333333, 22.04444444, 22.75555556, 23.46666667, 24.17777778,\n",
      "           24.88888889, 25.6       , 26.31111111, 27.02222222, 27.73333333,\n",
      "           28.44444444, 29.15555556, 29.86666667, 30.57777778, 31.28888889,\n",
      "           32.        , 32.71111111, 33.42222222, 34.13333333, 34.84444444,\n",
      "           35.55555556, 36.26666667, 36.97777778, 37.68888889, 38.4       ,\n",
      "           39.11111111, 39.82222222, 40.53333333, 41.24444444, 41.95555556,\n",
      "           42.66666667, 43.37777778, 44.08888889, 44.8       ] Mm>, 'y': <Quantity [ 0.        ,  0.70551181,  1.41102362,  2.11653543,  2.82204724,\n",
      "            3.52755906,  4.23307087,  4.93858268,  5.64409449,  6.3496063 ,\n",
      "            7.05511811,  7.76062992,  8.46614173,  9.17165354,  9.87716535,\n",
      "           10.58267717, 11.28818898, 11.99370079, 12.6992126 , 13.40472441,\n",
      "           14.11023622, 14.81574803, 15.52125984, 16.22677165, 16.93228346,\n",
      "           17.63779528, 18.34330709, 19.0488189 , 19.75433071, 20.45984252,\n",
      "           21.16535433, 21.87086614, 22.57637795, 23.28188976, 23.98740157,\n",
      "           24.69291339, 25.3984252 , 26.10393701, 26.80944882, 27.51496063,\n",
      "           28.22047244, 28.92598425, 29.63149606, 30.33700787, 31.04251969,\n",
      "           31.7480315 , 32.45354331, 33.15905512, 33.86456693, 34.57007874,\n",
      "           35.27559055, 35.98110236, 36.68661417, 37.39212598, 38.0976378 ,\n",
      "           38.80314961, 39.50866142, 40.21417323, 40.91968504, 41.62519685,\n",
      "           42.33070866, 43.03622047, 43.74173228, 44.44724409, 45.15275591,\n",
      "           45.85826772, 46.56377953, 47.26929134, 47.97480315, 48.68031496,\n",
      "           49.38582677, 50.09133858, 50.79685039, 51.5023622 , 52.20787402,\n",
      "           52.91338583, 53.61889764, 54.32440945, 55.02992126, 55.73543307,\n",
      "           56.44094488, 57.14645669, 57.8519685 , 58.55748031, 59.26299213,\n",
      "           59.96850394, 60.67401575, 61.37952756, 62.08503937, 62.79055118,\n",
      "           63.49606299, 64.2015748 , 64.90708661, 65.61259843, 66.31811024,\n",
      "           67.02362205, 67.72913386, 68.43464567, 69.14015748, 69.84566929,\n",
      "           70.5511811 , 71.25669291, 71.96220472, 72.66771654, 73.37322835,\n",
      "           74.07874016, 74.78425197, 75.48976378, 76.19527559, 76.9007874 ,\n",
      "           77.60629921, 78.31181102, 79.01732283, 79.72283465, 80.42834646,\n",
      "           81.13385827, 81.83937008, 82.54488189, 83.2503937 , 83.95590551,\n",
      "           84.66141732, 85.36692913, 86.07244094, 86.77795276, 87.48346457,\n",
      "           88.18897638, 88.89448819, 89.6       ] Mm>, 'z': <Quantity [ 0.        ,  0.71111111,  1.42222222,  2.13333333,  2.84444444,\n",
      "            3.55555556,  4.26666667,  4.97777778,  5.68888889,  6.4       ,\n",
      "            7.11111111,  7.82222222,  8.53333333,  9.24444444,  9.95555556,\n",
      "           10.66666667, 11.37777778, 12.08888889, 12.8       , 13.51111111,\n",
      "           14.22222222, 14.93333333, 15.64444444, 16.35555556, 17.06666667,\n",
      "           17.77777778, 18.48888889, 19.2       , 19.91111111, 20.62222222,\n",
      "           21.33333333, 22.04444444, 22.75555556, 23.46666667, 24.17777778,\n",
      "           24.88888889, 25.6       , 26.31111111, 27.02222222, 27.73333333,\n",
      "           28.44444444, 29.15555556, 29.86666667, 30.57777778, 31.28888889,\n",
      "           32.        , 32.71111111, 33.42222222, 34.13333333, 34.84444444,\n",
      "           35.55555556, 36.26666667, 36.97777778, 37.68888889, 38.4       ,\n",
      "           39.11111111, 39.82222222, 40.53333333, 41.24444444, 41.95555556,\n",
      "           42.66666667, 43.37777778, 44.08888889, 44.8       ] Mm>}\n"
     ]
    }
   ],
   "source": [
    "vis_box = Box(\"./model.h5\", 700*u.km)"
   ]
  },
  {
   "cell_type": "code",
   "execution_count": null,
   "id": "cab79b4d-1d60-46ae-9feb-faed1ca2eb82",
   "metadata": {},
   "outputs": [],
   "source": [
    "#vis_box.open_window()"
   ]
  },
  {
   "cell_type": "markdown",
   "id": "e72bd293-bb2f-44d4-b41a-7f39ef2cafb1",
   "metadata": {},
   "source": [
    "Creating a model of GR radiosource"
   ]
  },
  {
   "cell_type": "code",
   "execution_count": 2,
   "id": "0d35f390-faa8-4343-8c6a-b294b98e7e9d",
   "metadata": {},
   "outputs": [],
   "source": [
    "gxi = GXRadioImageComputing()"
   ]
  },
  {
   "cell_type": "code",
   "execution_count": 4,
   "id": "783f7ef1-af96-4bbd-82ee-808df821bc3f",
   "metadata": {},
   "outputs": [],
   "source": [
    "ebtel, ebtel_dt = gxi.load_ebtel(ebtel_file)\n",
    "model, model_dt = gxi.load_model_hdf(\"./model.h5\")"
   ]
  },
  {
   "cell_type": "code",
   "execution_count": 7,
   "id": "9e5f521d-6d02-41d4-bd9b-9aa95dd1a438",
   "metadata": {},
   "outputs": [],
   "source": [
    "box_Nx=150\n",
    "box_Ny=150\n",
    "box_dx=2.0\n",
    "box_dy=2.0\n",
    "\n",
    "freqlist=[5.0, 7.0]\n",
    "\n",
    "Tbase=1e6\n",
    "nbase=1e8\n",
    "Q0=4.5e-3\n",
    "a=1.5\n",
    "b=2.5\n",
    "\n",
    "results = gxi.synth_model(model, model_dt,\n",
    "                          ebtel, ebtel_dt, freqlist,\n",
    "                          box_Nx, box_Ny, xc, yc, box_dx, box_dy, Tbase, nbase, Q0, a, b, force_isothermal=1)"
   ]
  },
  {
   "cell_type": "code",
   "execution_count": 8,
   "id": "ed64b321-29c4-413e-b4fc-58844cb4846a",
   "metadata": {},
   "outputs": [
    {
     "data": {
      "image/png": "[encoded data removed]",
      "text/plain": [
       "<Figure size 1000x400 with 4 Axes>"
      ]
     },
     "metadata": {},
     "output_type": "display_data"
    }
   ],
   "source": [
    "fig1, (ax1, ax2) = plt.subplots(1, 2, figsize=(10, 4))\n",
    "i1 = ax1.imshow(results[\"TI\"][:, :, 0].T, origin='lower')\n",
    "i2 = ax2.imshow(results[\"TV\"][:, :, 0].T, origin='lower')\n",
    "\n",
    "plt.colorbar(i1, ax=ax1)\n",
    "plt.colorbar(i2, ax=ax2)\n",
    "\n",
    "plt.show()"
   ]
  }
 ],
 "metadata": {
  "kernelspec": {
   "display_name": "mypython",
   "language": "python",
   "name": "mypython"
  },
  "language_info": {
   "codemirror_mode": {
    "name": "ipython",
    "version": 3
   },
   "file_extension": ".py",
   "mimetype": "text/x-python",
   "name": "python",
   "nbconvert_exporter": "python",
   "pygments_lexer": "ipython3",
   "version": "3.11.9"
  }
 },
 "nbformat": 4,
 "nbformat_minor": 5
}
